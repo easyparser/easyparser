{
 "cells": [
  {
   "cell_type": "code",
   "execution_count": null,
   "id": "ee3c459d-209c-4f87-9665-ef9fb28809f4",
   "metadata": {},
   "outputs": [],
   "source": [
    "from pathlib import Path\n",
    "path = str(Path.cwd().parent / \"tests\" / \"assets\" / \"with_image.docx\")"
   ]
  },
  {
   "cell_type": "code",
   "execution_count": null,
   "id": "a601a02c-74e2-48e4-8e8c-db16a4e02bc9",
   "metadata": {},
   "outputs": [],
   "source": [
    "from unstructured.partition.docx import partition_docx\n",
    "elements = partition_docx(path, chunking_strategy=\"by_title\", max_characters=4000)\n",
    "print(f\"Chunk to {len(elements)} elements\")"
   ]
  },
  {
   "cell_type": "code",
   "execution_count": null,
   "id": "cb0901bb-911c-4558-825b-8259053bafd6",
   "metadata": {
    "scrolled": true
   },
   "outputs": [],
   "source": [
    "for idx, element in enumerate(elements):\n",
    "    print(idx, type(element), \"===========\")\n",
    "    print(element.text)\n",
    "    print()"
   ]
  },
  {
   "cell_type": "markdown",
   "id": "75eb6324-34a0-47cd-be0c-7e762fd74f0b",
   "metadata": {},
   "source": [
    "Areas for improvement:\n",
    "- Missing images\n",
    "\n",
    "Check for table performance.\n",
    "\n",
    "Seems like unstructured-io has the best open-source docx implementation so far. Langchain & llama-index just use a no-longer-maintained project `docx2txt`."
   ]
  },
  {
   "cell_type": "code",
   "execution_count": null,
   "id": "26a2d3cf-493c-4ef2-8040-5408ebbc5078",
   "metadata": {},
   "outputs": [],
   "source": [
    "from pathlib import Path\n",
    "\n",
    "from easyparser.base import Chunk\n",
    "from easyparser.mime import mime_docx\n",
    "\n",
    "from easyparser.parse.pandoc_engine import PandocEngine\n",
    "\n",
    "root = mime_docx.as_root_chunk(path)\n",
    "chunks = PandocEngine.run(root)\n",
    "for idx, chunk in enumerate(chunks):\n",
    "    if chunk.get('type') == 'header':\n",
    "        print(f\"Header level {chunk['level']}: =====\")\n",
    "    print(chunk['text'])\n",
    "    print()"
   ]
  },
  {
   "cell_type": "code",
   "execution_count": null,
   "id": "27bd6f51-51b9-44bf-af14-bbf766763805",
   "metadata": {},
   "outputs": [],
   "source": []
  }
 ],
 "metadata": {
  "kernelspec": {
   "display_name": "Python 3 (ipykernel)",
   "language": "python",
   "name": "python3"
  },
  "language_info": {
   "codemirror_mode": {
    "name": "ipython",
    "version": 3
   },
   "file_extension": ".py",
   "mimetype": "text/x-python",
   "name": "python",
   "nbconvert_exporter": "python",
   "pygments_lexer": "ipython3",
   "version": "3.10.16"
  }
 },
 "nbformat": 4,
 "nbformat_minor": 5
}
