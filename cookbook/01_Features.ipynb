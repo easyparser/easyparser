{
 "cells": [
  {
   "cell_type": "code",
   "execution_count": null,
   "id": "88dabd2a-3a0d-439f-9eb4-d5459850f5bc",
   "metadata": {},
   "outputs": [],
   "source": [
    "%load_ext autoreload\n",
    "%autoreload 2"
   ]
  },
  {
   "cell_type": "code",
   "execution_count": null,
   "id": "178af5d1-dab9-42ba-9449-b0c449760cc6",
   "metadata": {},
   "outputs": [],
   "source": [
    "from pathlib import Path\n",
    "\n",
    "asset_folder = Path.cwd().parent / \"tests\" / \"assets\"\n",
    "pdf_file = asset_folder / \"long.pdf\""
   ]
  },
  {
   "cell_type": "markdown",
   "id": "17d3234e-0d76-463d-884c-53035e0958dc",
   "metadata": {},
   "source": [
    "### Loading and chunking"
   ]
  },
  {
   "cell_type": "code",
   "execution_count": null,
   "id": "3ab20da3-4f71-4396-8098-fc48a018012f",
   "metadata": {},
   "outputs": [],
   "source": [
    "from easyparser.load.pdf import DoclingPDF\n",
    "from easyparser.mime import mime_pdf\n",
    "\n",
    "# Construct root chunk\n",
    "pdf_node = mime_pdf.as_root_chunk(pdf_file)\n",
    "\n",
    "# Chunk from root to smaller chunks\n",
    "chunks = DoclingPDF.run(pdf_node)"
   ]
  },
  {
   "cell_type": "code",
   "execution_count": null,
   "id": "7f124869-2e29-49bf-a160-a0e0468cd973",
   "metadata": {},
   "outputs": [],
   "source": [
    "print(pdf_node.as_dict())"
   ]
  },
  {
   "cell_type": "code",
   "execution_count": null,
   "id": "dff18dd7-4c15-4c93-83fc-d9cada3851b0",
   "metadata": {},
   "outputs": [],
   "source": [
    "print(f\"There are {len(chunks)} chunks\")\n",
    "print(\"Example:\")\n",
    "print(chunks[0])\n",
    "print(chunks[1])\n",
    "print(chunks[2])"
   ]
  },
  {
   "cell_type": "markdown",
   "id": "bd7ea6bf-eaba-4a87-a7cc-a73032ff4adb",
   "metadata": {},
   "source": [
    "### History tracing\n",
    "\n",
    "Know what operations are applied to a chunk."
   ]
  },
  {
   "cell_type": "code",
   "execution_count": null,
   "id": "ca80efdc-26aa-4b9e-b9a5-60dbfc1b84a4",
   "metadata": {},
   "outputs": [],
   "source": [
    "print(chunks[0].history)"
   ]
  },
  {
   "cell_type": "code",
   "execution_count": null,
   "id": "f373e167-bb26-4448-8a77-11631be88f42",
   "metadata": {},
   "outputs": [],
   "source": [
    "from easyparser.chunk.text import ChunkByCharacters\n",
    "\n",
    "chunked_texts = ChunkByCharacters.run(chunks, chunk_size=100, chunk_overlap=20)\n",
    "print(f\"Chunked from {len(chunks)} chunks to {len(chunked_texts)} chunks\")"
   ]
  },
  {
   "cell_type": "code",
   "execution_count": null,
   "id": "9e24583d-f665-475b-ae76-f4d01a65f0ef",
   "metadata": {},
   "outputs": [],
   "source": [
    "for idx, c in enumerate(chunked_texts):\n",
    "    if len(c.history) > 1:\n",
    "        print(idx, c.history)\n",
    "        break"
   ]
  },
  {
   "cell_type": "markdown",
   "id": "805c4978-4568-4ab9-9e6f-946eef85aacd",
   "metadata": {},
   "source": [
    "### Navigate\n",
    "\n",
    "Starting from a chunk, it's possible to navigate to the surrounding chunks. This function will be important when we want to equip multi-turn retrieval capability to agent."
   ]
  },
  {
   "cell_type": "code",
   "execution_count": null,
   "id": "7ff88dea-7a8d-4665-87e1-7aea23700b9a",
   "metadata": {},
   "outputs": [],
   "source": [
    "c = chunks[100]\n",
    "print(\"Random chunk:\")\n",
    "print(c)\n",
    "print()\n",
    "print(\"Next chunk:\")\n",
    "print(c.next)\n",
    "print()\n",
    "print(\"Prev chunk:\")\n",
    "print(c.prev)\n",
    "print()\n",
    "print(\"Parent chunk:\")\n",
    "print(c.parent)"
   ]
  },
  {
   "cell_type": "markdown",
   "id": "28f2bf3a-09fa-4d09-9a66-a694b526bebf",
   "metadata": {},
   "source": [
    "## Persist\n",
    "\n",
    "`easyparser` supports storing and loading chunks for later use."
   ]
  },
  {
   "cell_type": "code",
   "execution_count": null,
   "id": "3e77f59b-3d42-4bce-b4c8-8967242f5be3",
   "metadata": {},
   "outputs": [],
   "source": [
    "from easyparser.store.fs import FileStore\n",
    "\n",
    "store = FileStore(\"path\")\n",
    "store.save_group(chunks)\n",
    "store.save(pdf_node)"
   ]
  },
  {
   "cell_type": "markdown",
   "id": "70d809ff-d3ed-41af-abca-e8dca325124d",
   "metadata": {},
   "source": [
    "#### Loading"
   ]
  },
  {
   "cell_type": "code",
   "execution_count": null,
   "id": "7592666c-5599-47cb-a376-05347daf0af4",
   "metadata": {},
   "outputs": [],
   "source": [
    "store2 = FileStore(\"path\")"
   ]
  },
  {
   "cell_type": "code",
   "execution_count": null,
   "id": "891c1299-f0b7-44d2-bd51-427f4428068b",
   "metadata": {},
   "outputs": [],
   "source": [
    "c = store2.get(\"6e4d45d14dc84193800e4a5a2b9bf48e\")"
   ]
  },
  {
   "cell_type": "code",
   "execution_count": null,
   "id": "e848f1e7-f00f-455d-88f1-6ae9e568d826",
   "metadata": {},
   "outputs": [],
   "source": [
    "c.text"
   ]
  },
  {
   "cell_type": "code",
   "execution_count": null,
   "id": "10f5b948-7a79-482f-8e05-e940fa0ad539",
   "metadata": {},
   "outputs": [],
   "source": [
    "print(c.next.next.next)"
   ]
  },
  {
   "cell_type": "code",
   "execution_count": null,
   "id": "556f1a4e-ec1d-4fbe-9fe1-549e2b80ea01",
   "metadata": {},
   "outputs": [],
   "source": [
    "print(c.parent)"
   ]
  },
  {
   "cell_type": "code",
   "execution_count": null,
   "id": "12f5374f-81f3-4850-b9e9-b0e4d37b2782",
   "metadata": {},
   "outputs": [],
   "source": [
    "print(c.history)"
   ]
  },
  {
   "cell_type": "code",
   "execution_count": null,
   "id": "eb83bc5e-0d31-4bf4-96a1-ddc9be452efe",
   "metadata": {},
   "outputs": [],
   "source": []
  }
 ],
 "metadata": {
  "kernelspec": {
   "display_name": "Python 3 (ipykernel)",
   "language": "python",
   "name": "python3"
  },
  "language_info": {
   "codemirror_mode": {
    "name": "ipython",
    "version": 3
   },
   "file_extension": ".py",
   "mimetype": "text/x-python",
   "name": "python",
   "nbconvert_exporter": "python",
   "pygments_lexer": "ipython3",
   "version": "3.10.16"
  }
 },
 "nbformat": 4,
 "nbformat_minor": 5
}
