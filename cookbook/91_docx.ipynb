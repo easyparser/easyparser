{
 "cells": [
  {
   "cell_type": "markdown",
   "id": "0dd885c5-8eff-4ad3-9d82-66560d2ff5b3",
   "metadata": {},
   "source": [
    "**Prerequisite**:\n",
    "\n",
    "- pandoc: https://pandoc.org/installing.html\n",
    "- `unstructured[docx]`: `pip install unstructured[docx]`"
   ]
  },
  {
   "cell_type": "code",
   "execution_count": null,
   "id": "ee3c459d-209c-4f87-9665-ef9fb28809f4",
   "metadata": {},
   "outputs": [],
   "source": [
    "from pathlib import Path\n",
    "path = str(Path.cwd().parent / \"tests\" / \"assets\" / \"with_image.docx\")"
   ]
  },
  {
   "cell_type": "markdown",
   "id": "75eb6324-34a0-47cd-be0c-7e762fd74f0b",
   "metadata": {},
   "source": [
    "Areas for improvement:\n",
    "- Missing images\n",
    "\n",
    "Check for table performance.\n",
    "\n",
    "Seems like unstructured-io has the best open-source docx implementation so far. Langchain & llama-index just use a no-longer-maintained project `docx2txt`."
   ]
  },
  {
   "cell_type": "code",
   "execution_count": null,
   "id": "26a2d3cf-493c-4ef2-8040-5408ebbc5078",
   "metadata": {},
   "outputs": [],
   "source": [
    "from pathlib import Path\n",
    "\n",
    "from easyparser.base import Chunk\n",
    "from easyparser.mime import mime_docx\n",
    "\n",
    "from easyparser.parse.pandoc_engine import PandocEngine\n",
    "\n",
    "root = mime_docx.as_root_chunk(path)\n",
    "chunks = PandocEngine.run(root)\n",
    "chunk = chunks[0]\n",
    "chunk.print_graph()"
   ]
  },
  {
   "cell_type": "code",
   "execution_count": null,
   "id": "27bd6f51-51b9-44bf-af14-bbf766763805",
   "metadata": {},
   "outputs": [],
   "source": []
  }
 ],
 "metadata": {
  "kernelspec": {
   "display_name": "Python 3 (ipykernel)",
   "language": "python",
   "name": "python3"
  },
  "language_info": {
   "codemirror_mode": {
    "name": "ipython",
    "version": 3
   },
   "file_extension": ".py",
   "mimetype": "text/x-python",
   "name": "python",
   "nbconvert_exporter": "python",
   "pygments_lexer": "ipython3",
   "version": "3.10.16"
  }
 },
 "nbformat": 4,
 "nbformat_minor": 5
}
