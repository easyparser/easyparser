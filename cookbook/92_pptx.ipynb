{
 "cells": [
  {
   "cell_type": "code",
   "execution_count": null,
   "id": "59a01c9d-ead8-4cd3-9d1a-6dd5185dccf8",
   "metadata": {},
   "outputs": [],
   "source": [
    "from pathlib import Path\n",
    "from IPython.display import HTML\n",
    "\n",
    "file_path = \"../tests/assets/normal.pptx\""
   ]
  },
  {
   "cell_type": "markdown",
   "id": "635d1b64-b9da-446a-bbbf-d042ccc6cc42",
   "metadata": {},
   "source": [
    "## Chunked with unstructured"
   ]
  },
  {
   "cell_type": "code",
   "execution_count": null,
   "id": "08160ed4-7d36-4396-8126-75c9ed60d232",
   "metadata": {},
   "outputs": [],
   "source": [
    "from unstructured.partition.pptx import partition_pptx\n",
    "from unstructured.partition.utils.constants import PartitionStrategy\n",
    "\n",
    "elements = partition_pptx(\n",
    "    file_path,\n",
    "    include_page_breaks=True,\n",
    "    include_slide_notes=True,\n",
    "    infer_table_structure=True,\n",
    "    strategy=PartitionStrategy.FAST,\n",
    "    chunking_strategy='by_title',\n",
    ")\n",
    "print(f\"Chunked to {len(elements)} elements\")"
   ]
  },
  {
   "cell_type": "code",
   "execution_count": null,
   "id": "8dacdcdf-25d5-409a-96fd-60fcb5d2bdf4",
   "metadata": {
    "scrolled": true
   },
   "outputs": [],
   "source": [
    "for idx, element in enumerate(elements):\n",
    "    print(idx, '=======')\n",
    "    print(element.text)"
   ]
  },
  {
   "cell_type": "markdown",
   "id": "fdcf9b97-8220-46fc-986b-bb605eff016e",
   "metadata": {},
   "source": [
    "## Chunked with PptxParser without LLM"
   ]
  },
  {
   "cell_type": "code",
   "execution_count": null,
   "id": "a0231d67-ad09-435b-b394-329f84fb7abf",
   "metadata": {
    "scrolled": true
   },
   "outputs": [],
   "source": [
    "from easyparser.base import Chunk\n",
    "from easyparser.mime import mime_pptx\n",
    "from easyparser.parse.pptx import PptxParser\n",
    "\n",
    "root = mime_pptx.as_root_chunk(file_path)\n",
    "chunks = PptxParser.run(root)\n",
    "chunk = chunks[0]\n",
    "\n",
    "print(chunk.render())"
   ]
  },
  {
   "cell_type": "markdown",
   "id": "440fdd86-516d-4573-a551-1fee44e2206d",
   "metadata": {},
   "source": [
    "## Chunked with PptxParser with LLM\n",
    "\n",
    "Ensure that you have setup the LLM as per the `Add LLM support` section in the `easyparser` README."
   ]
  },
  {
   "cell_type": "code",
   "execution_count": null,
   "id": "e18d2eff-dbc2-4b18-ac00-afac22856cee",
   "metadata": {},
   "outputs": [],
   "source": [
    "import os\n",
    "\n",
    "from easyparser.base import Chunk\n",
    "from easyparser.mime import mime_pptx\n",
    "from easyparser.parse.pptx import PptxParser\n",
    "\n",
    "root = mime_pptx.as_root_chunk(file_path)\n",
    "chunks_llm = PptxParser.run(root, caption=True)\n",
    "chunk_llm = chunks_llm[0]\n",
    "\n",
    "print(chunk_llm.render())"
   ]
  }
 ],
 "metadata": {
  "kernelspec": {
   "display_name": "Python 3 (ipykernel)",
   "language": "python",
   "name": "python3"
  },
  "language_info": {
   "codemirror_mode": {
    "name": "ipython",
    "version": 3
   },
   "file_extension": ".py",
   "mimetype": "text/x-python",
   "name": "python",
   "nbconvert_exporter": "python",
   "pygments_lexer": "ipython3",
   "version": "3.12.9"
  }
 },
 "nbformat": 4,
 "nbformat_minor": 5
}
