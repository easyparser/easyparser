{
 "cells": [
  {
   "cell_type": "code",
   "execution_count": null,
   "id": "867595b8-af18-4aaf-91ef-93bf83e3c3c3",
   "metadata": {},
   "outputs": [],
   "source": [
    "from pathlib import Path\n",
    "\n",
    "path = Path.cwd().parent/\"tests\"/\"assets\"/\"lz.md\"\n",
    "with open(path) as f:\n",
    "    text = f.read()"
   ]
  },
  {
   "cell_type": "code",
   "execution_count": null,
   "id": "c8a59db4-436c-46c1-85d6-8869e8d71093",
   "metadata": {},
   "outputs": [],
   "source": [
    "from langchain_text_splitters import MarkdownHeaderTextSplitter\n",
    "\n",
    "headers_to_split_on = [\n",
    "    (\"#\", \"Header 1\"),\n",
    "    (\"##\", \"Header 2\"),\n",
    "    (\"###\", \"Header 3\"),\n",
    "]\n",
    "\n",
    "markdown_splitter = MarkdownHeaderTextSplitter(headers_to_split_on, strip_headers=False)\n",
    "chunks = markdown_splitter.split_text(text)\n",
    "for idx, chunk in enumerate(chunks):\n",
    "    print(\"Idx:\", idx, '============')\n",
    "    print(chunk.page_content)\n",
    "    print()"
   ]
  },
  {
   "cell_type": "code",
   "execution_count": null,
   "id": "98bd46df-a540-4c92-922e-bfae4140f455",
   "metadata": {},
   "outputs": [],
   "source": [
    "from langchain_text_splitters import ExperimentalMarkdownSyntaxTextSplitter\n",
    "es = ExperimentalMarkdownSyntaxTextSplitter(strip_headers=False)\n",
    "cs = es.split_text(text)\n",
    "for idx, chunk in enumerate(cs):\n",
    "    print(idx, '============')\n",
    "    print(chunk.page_content)\n",
    "    print()"
   ]
  },
  {
   "cell_type": "code",
   "execution_count": null,
   "id": "ce635b15-93c2-4ac8-ad3f-e9e7e4d5978d",
   "metadata": {},
   "outputs": [],
   "source": [
    "from unstructured.partition.md import partition_md\n",
    "items = partition_md(text=text, chunking_strategy=\"by_title\", max_characters=5000)\n",
    "for idx, chunk in enumerate(items):\n",
    "    print(idx, '============')\n",
    "    print(chunk.text)\n",
    "    print()"
   ]
  },
  {
   "cell_type": "markdown",
   "id": "12114778-a8d6-4372-96c4-f92519da369a",
   "metadata": {},
   "source": [
    "## Be better than competitors in\n",
    "\n",
    "- Respect Markdown syntax when easyparser.\n",
    "- Can chunk based on Markdown syntaxes other than heading (e.g. HTML elements inside Markdown)\n",
    "- Avoid too fragmented elements (risk of losing context when searching). We can still maintain hierarchy when combining elements.\n",
    "- Annotate table, images, code block if necessary."
   ]
  },
  {
   "cell_type": "code",
   "execution_count": null,
   "id": "3b11684c-6758-43c8-b227-0dbddac8e00a",
   "metadata": {},
   "outputs": [],
   "source": [
    "from easyparser.split.md import MarkdownSplitByHeading\n",
    "from easyparser.mime import mime_md\n",
    "\n",
    "root = mime_md.as_root_chunk(str(path))\n",
    "root.content = text\n",
    "chunks = MarkdownSplitByHeading.run(root, min_chunk_size=100)\n",
    "\n",
    "for idx, chunk in enumerate(chunks):\n",
    "    print(idx, '============', chunk.metadata)\n",
    "    print(chunk.content)\n",
    "    print()"
   ]
  },
  {
   "cell_type": "code",
   "execution_count": null,
   "id": "8e4f4ebb-3419-4049-8e97-de311741a75c",
   "metadata": {},
   "outputs": [],
   "source": [
    "print(chunks[13])"
   ]
  },
  {
   "cell_type": "code",
   "execution_count": null,
   "id": "99b45265-b65e-475e-a7ed-0ae62c8eb324",
   "metadata": {},
   "outputs": [],
   "source": []
  }
 ],
 "metadata": {
  "kernelspec": {
   "display_name": "Python 3 (ipykernel)",
   "language": "python",
   "name": "python3"
  },
  "language_info": {
   "codemirror_mode": {
    "name": "ipython",
    "version": 3
   },
   "file_extension": ".py",
   "mimetype": "text/x-python",
   "name": "python",
   "nbconvert_exporter": "python",
   "pygments_lexer": "ipython3",
   "version": "3.10.16"
  }
 },
 "nbformat": 4,
 "nbformat_minor": 5
}
